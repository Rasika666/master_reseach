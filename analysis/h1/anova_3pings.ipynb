{
 "cells": [
  {
   "cell_type": "code",
   "execution_count": 14,
   "metadata": {},
   "outputs": [],
   "source": [
    "import numpy as np\n",
    "import matplotlib.pyplot as plt\n",
    "from scipy import signal\n",
    "from scipy import signal, stats\n",
    "import os\n",
    "import pandas as pd"
   ]
  },
  {
   "cell_type": "code",
   "execution_count": 2,
   "metadata": {},
   "outputs": [],
   "source": [
    "\n",
    "def getData_half(cfileName):\n",
    "    \"\"\"\n",
    "    Reads only the first half of the complex samples from a .cfile.\n",
    "    The file is assumed to contain interleaved float32 I and Q samples.\n",
    "    \"\"\"\n",
    "    # Get file size in bytes\n",
    "    file_size = os.path.getsize(cfileName)\n",
    "    # Determine total number of float32 samples in the file\n",
    "    num_floats = file_size // 4\n",
    "    # Each complex sample requires 2 floats.\n",
    "    # The full complex array would have num_floats//2 elements.\n",
    "    # To get only half of that, we need to read:\n",
    "    count = (num_floats // 4) * 2  # (num_floats//4 complex samples)\n",
    "    \n",
    "    # Read only 'count' float32 numbers from the file\n",
    "    data = np.fromfile(cfileName, dtype=\"float32\", count=count)\n",
    "    \n",
    "    # Form complex samples: every pair (I, Q)\n",
    "    data_complex = data[0::2] + 1j * data[1::2]\n",
    "    \n",
    "    return data_complex"
   ]
  },
  {
   "cell_type": "code",
   "execution_count": 3,
   "metadata": {},
   "outputs": [],
   "source": [
    "num_samp_per_class = 10000\n",
    "fs = 20e6        # sampling frequency\n",
    "fft_size = 2048  # FFT window size\n",
    "fft_overlap = 256  # overlap between segments"
   ]
  },
  {
   "cell_type": "code",
   "execution_count": 4,
   "metadata": {},
   "outputs": [
    {
     "name": "stdout",
     "output_type": "stream",
     "text": [
      "(211288125,)\n"
     ]
    }
   ],
   "source": [
    "ping_first = getData_half(\"/media/rasi/Other/data/API-Security/hypothesis1/unauthenticated_firemware/ping_first\")\n",
    "print(ping_first.shape)"
   ]
  },
  {
   "cell_type": "code",
   "execution_count": 5,
   "metadata": {},
   "outputs": [
    {
     "name": "stderr",
     "output_type": "stream",
     "text": [
      "/tmp/ipykernel_43591/4196341126.py:1: UserWarning: Input data is complex, switching to return_onesided=False\n",
      "  f_ping_first, t_ping_first, Zxx_ping_first = signal.stft(ping_first, fs=20e6, nperseg=fft_size, noverlap=fft_overlap)\n"
     ]
    },
    {
     "name": "stdout",
     "output_type": "stream",
     "text": [
      "Zxx_ping_first shape: (117908, 2048)\n",
      "Selected STFT data shape: (10000, 2048)\n"
     ]
    }
   ],
   "source": [
    "f_ping_first, t_ping_first, Zxx_ping_first = signal.stft(ping_first, fs=20e6, nperseg=fft_size, noverlap=fft_overlap)\n",
    "Zxx_ping_first = Zxx_ping_first.transpose()\n",
    "\n",
    "Zxx_selected__ping_first = Zxx_ping_first[:num_samp_per_class]\n",
    "\n",
    "\n",
    "print(\"Zxx_ping_first shape:\", Zxx_ping_first.shape)\n",
    "print(\"Selected STFT data shape:\", Zxx_selected__ping_first.shape)\n",
    "del ping_first, Zxx_ping_first, f_ping_first, t_ping_first\n"
   ]
  },
  {
   "cell_type": "code",
   "execution_count": 6,
   "metadata": {},
   "outputs": [],
   "source": [
    "mag_ping_first = np.abs(Zxx_selected__ping_first)\n",
    "del Zxx_selected__ping_first\n",
    "power_ping_first = np.mean(mag_ping_first, axis=1)  # shape: (time_segments,)\n",
    "del mag_ping_first"
   ]
  },
  {
   "cell_type": "code",
   "execution_count": 7,
   "metadata": {},
   "outputs": [
    {
     "name": "stdout",
     "output_type": "stream",
     "text": [
      "(214828233,)\n"
     ]
    }
   ],
   "source": [
    "ping_middle = getData_half(\"/media/rasi/Other/data/API-Security/hypothesis1/unauthenticated_firemware/ping_middle\")\n",
    "print(ping_middle.shape)"
   ]
  },
  {
   "cell_type": "code",
   "execution_count": 8,
   "metadata": {},
   "outputs": [
    {
     "name": "stderr",
     "output_type": "stream",
     "text": [
      "/tmp/ipykernel_43591/3529992797.py:1: UserWarning: Input data is complex, switching to return_onesided=False\n",
      "  f_ping_middle, t_ping_middle, Zxx_ping_middle = signal.stft(ping_middle, fs=20e6, nperseg=fft_size, noverlap=fft_overlap)\n"
     ]
    },
    {
     "name": "stdout",
     "output_type": "stream",
     "text": [
      "Zxx_ping_middle shape: (119883, 2048)\n",
      "Selected STFT data shape: (10000, 2048)\n"
     ]
    }
   ],
   "source": [
    "f_ping_middle, t_ping_middle, Zxx_ping_middle = signal.stft(ping_middle, fs=20e6, nperseg=fft_size, noverlap=fft_overlap)\n",
    "Zxx_ping_middle = Zxx_ping_middle.transpose()\n",
    "\n",
    "Zxx_selected__ping_middle = Zxx_ping_middle[:num_samp_per_class]\n",
    "\n",
    "\n",
    "print(\"Zxx_ping_middle shape:\", Zxx_ping_middle.shape)\n",
    "print(\"Selected STFT data shape:\", Zxx_selected__ping_middle.shape)\n",
    "del ping_middle, Zxx_ping_middle, f_ping_middle, t_ping_middle"
   ]
  },
  {
   "cell_type": "code",
   "execution_count": 9,
   "metadata": {},
   "outputs": [],
   "source": [
    "mag_ping_middle = np.abs(Zxx_selected__ping_middle)\n",
    "del Zxx_selected__ping_middle\n",
    "power_ping_middle = np.mean(mag_ping_middle, axis=1)  # shape: (time_segments,)\n",
    "del mag_ping_middle"
   ]
  },
  {
   "cell_type": "code",
   "execution_count": 10,
   "metadata": {},
   "outputs": [
    {
     "name": "stdout",
     "output_type": "stream",
     "text": [
      "(212337083,)\n"
     ]
    }
   ],
   "source": [
    "ping_last = getData_half(\"/media/rasi/Other/data/API-Security/hypothesis1/unauthenticated_firemware/ping_last\")\n",
    "print(ping_last.shape)"
   ]
  },
  {
   "cell_type": "code",
   "execution_count": 11,
   "metadata": {},
   "outputs": [
    {
     "name": "stderr",
     "output_type": "stream",
     "text": [
      "/tmp/ipykernel_43591/2808974606.py:1: UserWarning: Input data is complex, switching to return_onesided=False\n",
      "  f_ping_last, t_ping_last, Zxx_ping_last = signal.stft(ping_last, fs=20e6, nperseg=fft_size, noverlap=fft_overlap)\n"
     ]
    },
    {
     "name": "stdout",
     "output_type": "stream",
     "text": [
      "Zxx_ping_last shape: (118493, 2048)\n",
      "Selected STFT data shape: (10000, 2048)\n"
     ]
    }
   ],
   "source": [
    "f_ping_last, t_ping_last, Zxx_ping_last = signal.stft(ping_last, fs=20e6, nperseg=fft_size, noverlap=fft_overlap)\n",
    "Zxx_ping_last = Zxx_ping_last.transpose()\n",
    "\n",
    "Zxx_selected__ping_last = Zxx_ping_last[:num_samp_per_class]\n",
    "\n",
    "\n",
    "print(\"Zxx_ping_last shape:\", Zxx_ping_last.shape)\n",
    "print(\"Selected STFT data shape:\", Zxx_selected__ping_last.shape)\n",
    "del ping_last, Zxx_ping_last, f_ping_last, t_ping_last"
   ]
  },
  {
   "cell_type": "code",
   "execution_count": 12,
   "metadata": {},
   "outputs": [],
   "source": [
    "mag_ping_last = np.abs(Zxx_selected__ping_last)\n",
    "del Zxx_selected__ping_last\n",
    "power_ping_last = np.mean(mag_ping_last, axis=1)  # shape: (time_segments,)\n",
    "del mag_ping_last"
   ]
  },
  {
   "cell_type": "code",
   "execution_count": 13,
   "metadata": {},
   "outputs": [
    {
     "name": "stdout",
     "output_type": "stream",
     "text": [
      "ANOVA F-statistic: 2.6018205\n",
      "ANOVA p-value: 0.07415522\n"
     ]
    }
   ],
   "source": [
    "F_stat, p_value = stats.f_oneway(power_ping_first, power_ping_middle, power_ping_last)\n",
    "\n",
    "print(\"ANOVA F-statistic:\", F_stat)\n",
    "print(\"ANOVA p-value:\", p_value)"
   ]
  },
  {
   "cell_type": "code",
   "execution_count": 15,
   "metadata": {},
   "outputs": [
    {
     "name": "stderr",
     "output_type": "stream",
     "text": [
      "/tmp/ipykernel_43591/3822079993.py:13: MatplotlibDeprecationWarning: The 'labels' parameter of boxplot() has been renamed 'tick_labels' since Matplotlib 3.9; support for the old name will be dropped in 3.11.\n",
      "  plt.boxplot(\n"
     ]
    },
    {
     "data": {
      "image/png": "[encoded data removed]",
      "text/plain": [
       "<Figure size 800x600 with 1 Axes>"
      ]
     },
     "metadata": {},
     "output_type": "display_data"
    }
   ],
   "source": [
    "\n",
    "\n",
    "# Suppose you already computed these arrays:\n",
    "# power_ping_first, power_ping_middle, power_ping_last\n",
    "\n",
    "# 1) Combine them into a list of arrays for the box plot:\n",
    "boxplot_data = [\n",
    "    power_ping_first,\n",
    "    power_ping_middle,\n",
    "    power_ping_last\n",
    "]\n",
    "\n",
    "# 2) Create a box plot:\n",
    "plt.figure(figsize=(8, 6))\n",
    "plt.boxplot(\n",
    "    boxplot_data,\n",
    "    labels=[\"PING (First)\", \"PING (Middle)\", \"PING (Last)\"]\n",
    ")\n",
    "\n",
    "# 3) Add plot decorations:\n",
    "plt.title(\"Comparison of STFT Power Across Different PING Execution Orders\")\n",
    "plt.xlabel(\"PING Execution Order\")\n",
    "plt.ylabel(\"Average Magnitude of STFT (Power)\")\n",
    "\n",
    "plt.grid(axis=\"y\", linestyle=\"--\", alpha=0.7)\n",
    "plt.tight_layout()\n",
    "plt.show()\n",
    "\n"
   ]
  }
 ],
 "metadata": {
  "kernelspec": {
   "display_name": "venv",
   "language": "python",
   "name": "python3"
  },
  "language_info": {
   "codemirror_mode": {
    "name": "ipython",
    "version": 3
   },
   "file_extension": ".py",
   "mimetype": "text/x-python",
   "name": "python",
   "nbconvert_exporter": "python",
   "pygments_lexer": "ipython3",
   "version": "3.12.3"
  }
 },
 "nbformat": 4,
 "nbformat_minor": 2
}
