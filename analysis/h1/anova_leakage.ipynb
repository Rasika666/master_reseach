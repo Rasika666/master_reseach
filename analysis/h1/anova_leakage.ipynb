{
 "cells": [
  {
   "cell_type": "code",
   "execution_count": 21,
   "metadata": {},
   "outputs": [],
   "source": [
    "import numpy as np\n",
    "import matplotlib.pyplot as plt\n",
    "from scipy import signal\n",
    "from scipy import signal, stats\n",
    "import os"
   ]
  },
  {
   "cell_type": "code",
   "execution_count": 22,
   "metadata": {},
   "outputs": [],
   "source": [
    "def getData_one_sixth(cfileName):\n",
    "    # Get file size in bytes.\n",
    "    file_size = os.path.getsize(cfileName)\n",
    "    # Each float32 is 4 bytes.\n",
    "    num_floats = file_size // 4\n",
    "    # Each complex sample consists of 2 floats.\n",
    "    total_complex_samples = num_floats // 2\n",
    "    # One-sixth of the complex samples.\n",
    "    one_sixth_complex_samples = total_complex_samples // 6\n",
    "    # Since each complex sample is 2 floats, calculate the count.\n",
    "    count = one_sixth_complex_samples * 2\n",
    "    # Read only the required number of float32 values.\n",
    "    data = np.fromfile(cfileName, dtype=\"float32\", count=count)\n",
    "    # Convert to complex samples.\n",
    "    complex_data = data[0::2] + 1j * data[1::2]\n",
    "    return complex_data"
   ]
  },
  {
   "cell_type": "code",
   "execution_count": 23,
   "metadata": {},
   "outputs": [],
   "source": [
    "\n",
    "def getData_half(cfileName):\n",
    "    \"\"\"\n",
    "    Reads only the first half of the complex samples from a .cfile.\n",
    "    The file is assumed to contain interleaved float32 I and Q samples.\n",
    "    \"\"\"\n",
    "    # Get file size in bytes\n",
    "    file_size = os.path.getsize(cfileName)\n",
    "    # Determine total number of float32 samples in the file\n",
    "    num_floats = file_size // 4\n",
    "    # Each complex sample requires 2 floats.\n",
    "    # The full complex array would have num_floats//2 elements.\n",
    "    # To get only half of that, we need to read:\n",
    "    count = (num_floats // 4) * 2  # (num_floats//4 complex samples)\n",
    "    \n",
    "    # Read only 'count' float32 numbers from the file\n",
    "    data = np.fromfile(cfileName, dtype=\"float32\", count=count)\n",
    "    \n",
    "    # Form complex samples: every pair (I, Q)\n",
    "    data_complex = data[0::2] + 1j * data[1::2]\n",
    "    \n",
    "    return data_complex\n",
    "\n"
   ]
  },
  {
   "cell_type": "code",
   "execution_count": 24,
   "metadata": {},
   "outputs": [],
   "source": [
    "num_samp_per_class = 10000\n",
    "fs = 20e6        # sampling frequency\n",
    "fft_size = 2048  # FFT window size\n",
    "fft_overlap = 256  # overlap between segments"
   ]
  },
  {
   "cell_type": "code",
   "execution_count": 25,
   "metadata": {},
   "outputs": [
    {
     "name": "stdout",
     "output_type": "stream",
     "text": [
      "(195560075,)\n"
     ]
    }
   ],
   "source": [
    "low= getData_one_sixth(\"/media/rasi/Other/data/API-Security/hypothesis2/traning/low\")\n",
    "print(low.shape)"
   ]
  },
  {
   "cell_type": "code",
   "execution_count": 26,
   "metadata": {},
   "outputs": [
    {
     "name": "stderr",
     "output_type": "stream",
     "text": [
      "/tmp/ipykernel_22768/1175882797.py:1: UserWarning: Input data is complex, switching to return_onesided=False\n",
      "  f_low, t_low, Zxx_low = signal.stft(low, fs=20e6, nperseg=fft_size, noverlap=fft_overlap)\n"
     ]
    },
    {
     "name": "stdout",
     "output_type": "stream",
     "text": [
      "Zxx_low shape: (109131, 2048)\n",
      "Selected STFT data shape: (10000, 2048)\n"
     ]
    }
   ],
   "source": [
    "f_low, t_low, Zxx_low = signal.stft(low, fs=20e6, nperseg=fft_size, noverlap=fft_overlap)\n",
    "Zxx_low = Zxx_low.transpose()\n",
    "\n",
    "Zxx_selected__low = Zxx_low[:num_samp_per_class]\n",
    "\n",
    "\n",
    "print(\"Zxx_low shape:\", Zxx_low.shape)\n",
    "print(\"Selected STFT data shape:\", Zxx_selected__low.shape)\n",
    "del low, Zxx_low, f_low, t_low"
   ]
  },
  {
   "cell_type": "code",
   "execution_count": 27,
   "metadata": {},
   "outputs": [],
   "source": [
    "mag_low = np.abs(Zxx_selected__low)\n",
    "del Zxx_selected__low\n",
    "power_low = np.mean(mag_low, axis=1)  # shape: (time_segments,)\n",
    "del mag_low"
   ]
  },
  {
   "cell_type": "code",
   "execution_count": 28,
   "metadata": {},
   "outputs": [
    {
     "name": "stdout",
     "output_type": "stream",
     "text": [
      "(195581304,)\n"
     ]
    }
   ],
   "source": [
    "moderate= getData_one_sixth(\"/media/rasi/Other/data/API-Security/hypothesis2/traning/moderate\")\n",
    "print(moderate.shape)"
   ]
  },
  {
   "cell_type": "code",
   "execution_count": 29,
   "metadata": {},
   "outputs": [
    {
     "name": "stderr",
     "output_type": "stream",
     "text": [
      "/tmp/ipykernel_22768/4165365028.py:1: UserWarning: Input data is complex, switching to return_onesided=False\n",
      "  f_moderate, t_moderate, Zxx_moderate = signal.stft(moderate, fs=20e6, nperseg=fft_size, noverlap=fft_overlap)\n"
     ]
    },
    {
     "name": "stdout",
     "output_type": "stream",
     "text": [
      "Zxx_moderate shape: (109143, 2048)\n",
      "Selected STFT data shape: (10000, 2048)\n"
     ]
    }
   ],
   "source": [
    "f_moderate, t_moderate, Zxx_moderate = signal.stft(moderate, fs=20e6, nperseg=fft_size, noverlap=fft_overlap)\n",
    "Zxx_moderate = Zxx_moderate.transpose()\n",
    "\n",
    "Zxx_selected__moderate = Zxx_moderate[:num_samp_per_class]\n",
    "\n",
    "\n",
    "print(\"Zxx_moderate shape:\", Zxx_moderate.shape)\n",
    "print(\"Selected STFT data shape:\", Zxx_selected__moderate.shape)\n",
    "del moderate, Zxx_moderate, f_moderate, t_moderate"
   ]
  },
  {
   "cell_type": "code",
   "execution_count": 30,
   "metadata": {},
   "outputs": [],
   "source": [
    "mag_moderate = np.abs(Zxx_selected__moderate)\n",
    "del Zxx_selected__moderate\n",
    "power_moderate = np.mean(mag_moderate, axis=1)  # shape: (time_segments,)\n",
    "del mag_moderate"
   ]
  },
  {
   "cell_type": "code",
   "execution_count": 31,
   "metadata": {},
   "outputs": [
    {
     "name": "stdout",
     "output_type": "stream",
     "text": [
      "(194729849,)\n"
     ]
    }
   ],
   "source": [
    "high= getData_one_sixth(\"/media/rasi/Other/data/API-Security/hypothesis2/traning/high\")\n",
    "print(high.shape)"
   ]
  },
  {
   "cell_type": "code",
   "execution_count": 32,
   "metadata": {},
   "outputs": [
    {
     "name": "stderr",
     "output_type": "stream",
     "text": [
      "/tmp/ipykernel_22768/743897009.py:1: UserWarning: Input data is complex, switching to return_onesided=False\n",
      "  f_high, t_high, Zxx_high = signal.stft(high, fs=20e6, nperseg=fft_size, noverlap=fft_overlap)\n"
     ]
    },
    {
     "name": "stdout",
     "output_type": "stream",
     "text": [
      "Zxx_high shape: (108668, 2048)\n",
      "Selected STFT data shape: (10000, 2048)\n"
     ]
    }
   ],
   "source": [
    "f_high, t_high, Zxx_high = signal.stft(high, fs=20e6, nperseg=fft_size, noverlap=fft_overlap)\n",
    "Zxx_high = Zxx_high.transpose()\n",
    "\n",
    "Zxx_selected__high = Zxx_high[:num_samp_per_class]\n",
    "\n",
    "\n",
    "print(\"Zxx_high shape:\", Zxx_high.shape)\n",
    "print(\"Selected STFT data shape:\", Zxx_selected__high.shape)\n",
    "del high, Zxx_high, f_high, t_high"
   ]
  },
  {
   "cell_type": "code",
   "execution_count": 33,
   "metadata": {},
   "outputs": [],
   "source": [
    "mag_high = np.abs(Zxx_selected__high)\n",
    "del Zxx_selected__high\n",
    "power_high = np.mean(mag_high, axis=1)  # shape: (time_segments,)\n",
    "del mag_high"
   ]
  },
  {
   "cell_type": "code",
   "execution_count": 34,
   "metadata": {},
   "outputs": [
    {
     "name": "stdout",
     "output_type": "stream",
     "text": [
      "(212153772,)\n"
     ]
    }
   ],
   "source": [
    "original= getData_half(\"/media/rasi/Other/data/API-Security/hypothesis1/autheticated_firemware/original\")\n",
    "print(original.shape)"
   ]
  },
  {
   "cell_type": "code",
   "execution_count": 35,
   "metadata": {},
   "outputs": [
    {
     "name": "stderr",
     "output_type": "stream",
     "text": [
      "/tmp/ipykernel_22768/1699200826.py:1: UserWarning: Input data is complex, switching to return_onesided=False\n",
      "  f_original, t_original, Zxx_original = signal.stft(original, fs=20e6, nperseg=fft_size, noverlap=fft_overlap)\n"
     ]
    },
    {
     "name": "stdout",
     "output_type": "stream",
     "text": [
      "Zxx_original shape: (118391, 2048)\n",
      "Selected STFT data shape: (10000, 2048)\n"
     ]
    }
   ],
   "source": [
    "f_original, t_original, Zxx_original = signal.stft(original, fs=20e6, nperseg=fft_size, noverlap=fft_overlap)\n",
    "Zxx_original = Zxx_original.transpose()\n",
    "\n",
    "Zxx_selected__original = Zxx_original[:num_samp_per_class]\n",
    "\n",
    "\n",
    "print(\"Zxx_original shape:\", Zxx_original.shape)\n",
    "print(\"Selected STFT data shape:\", Zxx_selected__original.shape)\n",
    "del original, Zxx_original, f_original, t_original"
   ]
  },
  {
   "cell_type": "code",
   "execution_count": 36,
   "metadata": {},
   "outputs": [],
   "source": [
    "mag_original = np.abs(Zxx_selected__original)\n",
    "del Zxx_selected__original\n",
    "power_original = np.mean(mag_original, axis=1)  # shape: (time_segments,)\n",
    "del mag_original"
   ]
  },
  {
   "cell_type": "code",
   "execution_count": 37,
   "metadata": {},
   "outputs": [
    {
     "name": "stdout",
     "output_type": "stream",
     "text": [
      "ANOVA F-statistic: 98.42989\n",
      "ANOVA p-value: 0.0\n"
     ]
    }
   ],
   "source": [
    "F_stat, p_value = stats.f_oneway(power_original, power_low, power_moderate, power_high)\n",
    "\n",
    "print(\"ANOVA F-statistic:\", F_stat)\n",
    "print(\"ANOVA p-value:\", p_value)\n",
    "del power_original, power_low, power_moderate, power_high"
   ]
  }
 ],
 "metadata": {
  "kernelspec": {
   "display_name": "venv",
   "language": "python",
   "name": "python3"
  },
  "language_info": {
   "codemirror_mode": {
    "name": "ipython",
    "version": 3
   },
   "file_extension": ".py",
   "mimetype": "text/x-python",
   "name": "python",
   "nbconvert_exporter": "python",
   "pygments_lexer": "ipython3",
   "version": "3.12.3"
  }
 },
 "nbformat": 4,
 "nbformat_minor": 2
}
