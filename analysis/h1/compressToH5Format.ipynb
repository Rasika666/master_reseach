{
 "cells": [
  {
   "cell_type": "code",
   "execution_count": 4,
   "metadata": {},
   "outputs": [],
   "source": [
    "import os\n",
    "import numpy as np\n",
    "import h5py"
   ]
  },
  {
   "cell_type": "code",
   "execution_count": 9,
   "metadata": {},
   "outputs": [
    {
     "name": "stdout",
     "output_type": "stream",
     "text": [
      "Found binary files: []\n"
     ]
    }
   ],
   "source": [
    "binary_dir = '/media/rasi/Other/data'  # Update with your directory\n",
    "\n",
    "# List all binary files (e.g., with .bin extension)\n",
    "binary_files = [f for f in os.listdir(binary_dir) if f.endswith('.bin')]\n",
    "print(\"Found binary files:\", binary_files)"
   ]
  },
  {
   "cell_type": "code",
   "execution_count": null,
   "metadata": {},
   "outputs": [
    {
     "name": "stdout",
     "output_type": "stream",
     "text": [
      "File: /media/rasi/Other/data/API-Security/hypothesis2/validation/high.bin, Data shape: (2320763706,)\n",
      "File: /media/rasi/Other/data/API-Security/hypothesis2/validation/low.bin, Data shape: (2369523672,)\n"
     ]
    }
   ],
   "source": [
    "binary_dir = '/media/rasi/Other/data' \n",
    "data_list = []\n",
    "file_paths = []\n",
    "\n",
    "# Walk through the directory and its subdirectories\n",
    "for root, dirs, files in os.walk(binary_dir):\n",
    "    for file in files:\n",
    "        if file.endswith('.bin'):  # Filter for binary files\n",
    "            filepath = os.path.join(root, file)\n",
    "            file_paths.append(filepath)\n",
    "            with open(filepath, 'rb') as f:\n",
    "                file_bytes = f.read()\n",
    "                # Convert bytes to a NumPy array. Adjust dtype as needed.\n",
    "                data = np.frombuffer(file_bytes, dtype=np.float32)\n",
    "                print(f\"File: {filepath}, Data shape: {data.shape}\")\n",
    "                if data.size > 0:\n",
    "                    data_list.append(data)\n",
    "                else:\n",
    "                    print(f\"Warning: {filepath} returned an empty array.\")\n",
    "\n",
    "# Check if any data was collected\n",
    "if not data_list:\n",
    "    raise ValueError(\"No data arrays were read from the binary files. Please check the file paths and data format.\")\n",
    "\n",
    "# If all arrays have the same shape, stack them into a single array.\n",
    "# If they differ, you may need to store them separately or pad them to a common shape.\n",
    "try:\n",
    "    data_array = np.stack(data_list, axis=0)\n",
    "except ValueError as e:\n",
    "    raise ValueError(\"Arrays could not be stacked due to mismatched shapes. \"\n",
    "                     \"Consider storing them separately in the HDF5 file.\") from e\n",
    "\n",
    "# Create an HDF5 file and save the dataset\n",
    "h5_filename = '/media/rasi/Other/dataoutput.h5'  # Update as needed\n",
    "with h5py.File(h5_filename, 'w') as h5f:\n",
    "    h5f.create_dataset('binary_data', data=data_array)\n",
    "\n",
    "print(f\"HDF5 dataset created and saved to {h5_filename}\")\n"
   ]
  }
 ],
 "metadata": {
  "kernelspec": {
   "display_name": "venv",
   "language": "python",
   "name": "python3"
  },
  "language_info": {
   "codemirror_mode": {
    "name": "ipython",
    "version": 3
   },
   "file_extension": ".py",
   "mimetype": "text/x-python",
   "name": "python",
   "nbconvert_exporter": "python",
   "pygments_lexer": "ipython3",
   "version": "3.12.3"
  }
 },
 "nbformat": 4,
 "nbformat_minor": 2
}
