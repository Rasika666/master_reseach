{
 "cells": [
  {
   "cell_type": "code",
   "execution_count": 127,
   "metadata": {},
   "outputs": [],
   "source": [
    "import numpy as np\n",
    "import matplotlib.pyplot as plt\n",
    "from scipy import signal\n",
    "from scipy import signal, stats\n",
    "import os"
   ]
  },
  {
   "cell_type": "code",
   "execution_count": 128,
   "metadata": {},
   "outputs": [],
   "source": [
    "\n",
    "def getData_half(cfileName):\n",
    "    \"\"\"\n",
    "    Reads only the first half of the complex samples from a .cfile.\n",
    "    The file is assumed to contain interleaved float32 I and Q samples.\n",
    "    \"\"\"\n",
    "    # Get file size in bytes\n",
    "    file_size = os.path.getsize(cfileName)\n",
    "    # Determine total number of float32 samples in the file\n",
    "    num_floats = file_size // 4\n",
    "    # Each complex sample requires 2 floats.\n",
    "    # The full complex array would have num_floats//2 elements.\n",
    "    # To get only half of that, we need to read:\n",
    "    count = (num_floats // 4) * 2  # (num_floats//4 complex samples)\n",
    "    \n",
    "    # Read only 'count' float32 numbers from the file\n",
    "    data = np.fromfile(cfileName, dtype=\"float32\", count=count)\n",
    "    \n",
    "    # Form complex samples: every pair (I, Q)\n",
    "    data_complex = data[0::2] + 1j * data[1::2]\n",
    "    \n",
    "    return data_complex\n",
    "\n"
   ]
  },
  {
   "cell_type": "code",
   "execution_count": 129,
   "metadata": {},
   "outputs": [],
   "source": [
    "num_samp_per_class = 25000\n",
    "fs = 20e6        # sampling frequency\n",
    "fft_size = 2048  # FFT window size\n",
    "fft_overlap = 125  # overlap between segments"
   ]
  },
  {
   "cell_type": "code",
   "execution_count": 130,
   "metadata": {},
   "outputs": [
    {
     "name": "stdout",
     "output_type": "stream",
     "text": [
      "(212153772,)\n"
     ]
    }
   ],
   "source": [
    "original_half = getData_half(\"/media/rasi/Other/data/API-Security/hypothesis1/autheticated_firemware/original\")\n",
    "print(original_half.shape)"
   ]
  },
  {
   "cell_type": "code",
   "execution_count": 131,
   "metadata": {},
   "outputs": [
    {
     "name": "stderr",
     "output_type": "stream",
     "text": [
      "/tmp/ipykernel_37161/1278949766.py:1: UserWarning: Input data is complex, switching to return_onesided=False\n",
      "  f_original, t_original, Zxx_original = signal.stft(original_half, fs=20e6, nperseg=fft_size, noverlap=fft_overlap)\n"
     ]
    },
    {
     "name": "stdout",
     "output_type": "stream",
     "text": [
      "Zxx_original shape: (110326, 2048)\n",
      "Selected STFT data shape: (25000, 2048)\n"
     ]
    }
   ],
   "source": [
    "f_original, t_original, Zxx_original = signal.stft(original_half, fs=20e6, nperseg=fft_size, noverlap=fft_overlap)\n",
    "Zxx_original = Zxx_original.transpose()\n",
    "\n",
    "Zxx_selected__orginal = Zxx_original[:num_samp_per_class]\n",
    "\n",
    "\n",
    "print(\"Zxx_original shape:\", Zxx_original.shape)\n",
    "print(\"Selected STFT data shape:\", Zxx_selected__orginal.shape)\n",
    "del original_half, Zxx_original"
   ]
  },
  {
   "cell_type": "code",
   "execution_count": 132,
   "metadata": {},
   "outputs": [],
   "source": [
    "mag_original = np.abs(Zxx_selected__orginal)\n",
    "mag_original = mag_original.flatten()\n",
    "del Zxx_selected__orginal"
   ]
  },
  {
   "cell_type": "markdown",
   "metadata": {},
   "source": [
    "# Remove rgn API"
   ]
  },
  {
   "cell_type": "code",
   "execution_count": 133,
   "metadata": {},
   "outputs": [
    {
     "name": "stdout",
     "output_type": "stream",
     "text": [
      "(211748722,)\n"
     ]
    }
   ],
   "source": [
    "remove_rgn_half = getData_half(\"/media/rasi/Other/data/API-Security/hypothesis1/unauthenticated_firemware/remove_rgn\")\n",
    "print(remove_rgn_half.shape)"
   ]
  },
  {
   "cell_type": "code",
   "execution_count": 134,
   "metadata": {},
   "outputs": [
    {
     "name": "stderr",
     "output_type": "stream",
     "text": [
      "/tmp/ipykernel_37161/2506175574.py:1: UserWarning: Input data is complex, switching to return_onesided=False\n",
      "  f_remove_rgn, t_remove_rgn, Zxx_remove_rgn = signal.stft(remove_rgn_half, fs=20e6, nperseg=fft_size, noverlap=fft_overlap)\n"
     ]
    },
    {
     "name": "stdout",
     "output_type": "stream",
     "text": [
      "Zxx_remove_rgn shape: (110115, 2048)\n",
      "Selected STFT data shape: (25000, 2048)\n"
     ]
    }
   ],
   "source": [
    "f_remove_rgn, t_remove_rgn, Zxx_remove_rgn = signal.stft(remove_rgn_half, fs=20e6, nperseg=fft_size, noverlap=fft_overlap)\n",
    "Zxx_remove_rgn = Zxx_remove_rgn.transpose()\n",
    "\n",
    "Zxx_selected__remove = Zxx_remove_rgn[:num_samp_per_class]\n",
    "\n",
    "\n",
    "print(\"Zxx_remove_rgn shape:\", Zxx_remove_rgn.shape)\n",
    "print(\"Selected STFT data shape:\", Zxx_selected__remove.shape)\n",
    "del remove_rgn_half, Zxx_remove_rgn"
   ]
  },
  {
   "cell_type": "code",
   "execution_count": 135,
   "metadata": {},
   "outputs": [],
   "source": [
    "mag_remove_rgn = np.abs(Zxx_selected__remove)\n",
    "mag_remove_rgn = mag_remove_rgn.flatten()\n",
    "del Zxx_selected__remove"
   ]
  },
  {
   "cell_type": "code",
   "execution_count": 136,
   "metadata": {},
   "outputs": [
    {
     "name": "stdout",
     "output_type": "stream",
     "text": [
      "paried t-test\n",
      "Overall t-statistic: 95.11222453023406\n",
      "Overall p-value: 0.0\n"
     ]
    }
   ],
   "source": [
    "# Run an p-pair t-test on the flattened data\n",
    "t_stat, p_value = stats.ttest_rel(mag_original, mag_remove_rgn)\n",
    "\n",
    "print(\"paried t-test\")\n",
    "print(\"Overall t-statistic:\", t_stat)\n",
    "print(\"Overall p-value:\", p_value)\n"
   ]
  },
  {
   "cell_type": "code",
   "execution_count": 137,
   "metadata": {},
   "outputs": [
    {
     "name": "stdout",
     "output_type": "stream",
     "text": [
      "Two-sample t-test\n",
      "Overall t-statistic: 88.8921180045672\n",
      "Overall p-value: 0.0\n"
     ]
    }
   ],
   "source": [
    "# Run an Two-sample t-test on the flattened data\n",
    "t_stat, p_value = stats.ttest_ind(mag_original, mag_remove_rgn)\n",
    "\n",
    "print(\"Two-sample t-test\")\n",
    "print(\"Overall t-statistic:\", t_stat)\n",
    "print(\"Overall p-value:\", p_value)\n",
    "del mag_remove_rgn"
   ]
  },
  {
   "cell_type": "markdown",
   "metadata": {},
   "source": [
    "# Add ping API"
   ]
  },
  {
   "cell_type": "markdown",
   "metadata": {},
   "source": [
    "### ping first"
   ]
  },
  {
   "cell_type": "code",
   "execution_count": 138,
   "metadata": {},
   "outputs": [
    {
     "name": "stdout",
     "output_type": "stream",
     "text": [
      "(211288125,)\n"
     ]
    }
   ],
   "source": [
    "ping = getData_half(\"/media/rasi/Other/data/API-Security/hypothesis1/unauthenticated_firemware/ping_first\")\n",
    "print(ping.shape)"
   ]
  },
  {
   "cell_type": "code",
   "execution_count": 139,
   "metadata": {},
   "outputs": [
    {
     "name": "stderr",
     "output_type": "stream",
     "text": [
      "/tmp/ipykernel_37161/1157356072.py:1: UserWarning: Input data is complex, switching to return_onesided=False\n",
      "  f_ping, t_ping, Zxx_ping = signal.stft(ping, fs=20e6, nperseg=fft_size, noverlap=fft_overlap)\n"
     ]
    },
    {
     "name": "stdout",
     "output_type": "stream",
     "text": [
      "Zxx_remove_rgn shape: (109876, 2048)\n",
      "Selected STFT data shape: (25000, 2048)\n"
     ]
    }
   ],
   "source": [
    "f_ping, t_ping, Zxx_ping = signal.stft(ping, fs=20e6, nperseg=fft_size, noverlap=fft_overlap)\n",
    "Zxx_ping = Zxx_ping.transpose()\n",
    "\n",
    "Zxx_selected__ping = Zxx_ping[:num_samp_per_class]\n",
    "\n",
    "\n",
    "print(\"Zxx_remove_rgn shape:\", Zxx_ping.shape)\n",
    "print(\"Selected STFT data shape:\", Zxx_selected__ping.shape)\n",
    "del ping, Zxx_ping"
   ]
  },
  {
   "cell_type": "code",
   "execution_count": 140,
   "metadata": {},
   "outputs": [],
   "source": [
    "mag_ping = np.abs(Zxx_selected__ping)\n",
    "mag_ping_flat = mag_ping.flatten()\n",
    "del Zxx_selected__ping"
   ]
  },
  {
   "cell_type": "code",
   "execution_count": 141,
   "metadata": {},
   "outputs": [
    {
     "name": "stdout",
     "output_type": "stream",
     "text": [
      "Result of paired  t-test between original and ping first\n",
      "Overall t-statistic: 208.72006970797463\n",
      "Overall p-value: 0.0\n"
     ]
    }
   ],
   "source": [
    "# Run an p-pair t-test on the flattened data\n",
    "t_stat, p_value = stats.ttest_rel(mag_original, mag_ping_flat)\n",
    "print(\"Result of paired  t-test between original and ping first\")\n",
    "print(\"Overall t-statistic:\", t_stat)\n",
    "print(\"Overall p-value:\", p_value)"
   ]
  },
  {
   "cell_type": "code",
   "execution_count": 142,
   "metadata": {},
   "outputs": [
    {
     "name": "stdout",
     "output_type": "stream",
     "text": [
      "Result of 2-sample  t-test between original and ping first\n",
      "Overall t-statistic: 198.63270883932412\n",
      "Overall p-value: 0.0\n"
     ]
    }
   ],
   "source": [
    "# Run an 2-sample t-test on the flattened data\n",
    "t_stat, p_value = stats.ttest_ind(mag_original, mag_ping_flat)\n",
    "print(\"Result of 2-sample  t-test between original and ping first\")\n",
    "print(\"Overall t-statistic:\", t_stat)\n",
    "print(\"Overall p-value:\", p_value)\n",
    "del mag_ping_flat"
   ]
  },
  {
   "cell_type": "markdown",
   "metadata": {},
   "source": [
    "### ping middle"
   ]
  },
  {
   "cell_type": "code",
   "execution_count": 143,
   "metadata": {},
   "outputs": [
    {
     "name": "stdout",
     "output_type": "stream",
     "text": [
      "(214828233,)\n"
     ]
    }
   ],
   "source": [
    "ping = getData_half(\"/media/rasi/Other/data/API-Security/hypothesis1/unauthenticated_firemware/ping_middle\")\n",
    "print(ping.shape)"
   ]
  },
  {
   "cell_type": "code",
   "execution_count": 144,
   "metadata": {},
   "outputs": [
    {
     "name": "stderr",
     "output_type": "stream",
     "text": [
      "/tmp/ipykernel_37161/1157356072.py:1: UserWarning: Input data is complex, switching to return_onesided=False\n",
      "  f_ping, t_ping, Zxx_ping = signal.stft(ping, fs=20e6, nperseg=fft_size, noverlap=fft_overlap)\n"
     ]
    },
    {
     "name": "stdout",
     "output_type": "stream",
     "text": [
      "Zxx_remove_rgn shape: (111717, 2048)\n",
      "Selected STFT data shape: (25000, 2048)\n"
     ]
    }
   ],
   "source": [
    "f_ping, t_ping, Zxx_ping = signal.stft(ping, fs=20e6, nperseg=fft_size, noverlap=fft_overlap)\n",
    "Zxx_ping = Zxx_ping.transpose()\n",
    "\n",
    "Zxx_selected__ping = Zxx_ping[:num_samp_per_class]\n",
    "\n",
    "\n",
    "print(\"Zxx_remove_rgn shape:\", Zxx_ping.shape)\n",
    "print(\"Selected STFT data shape:\", Zxx_selected__ping.shape)\n",
    "del ping, Zxx_ping"
   ]
  },
  {
   "cell_type": "code",
   "execution_count": 145,
   "metadata": {},
   "outputs": [],
   "source": [
    "mag_ping = np.abs(Zxx_selected__ping)\n",
    "mag_ping_flat = mag_ping.flatten()\n",
    "del Zxx_selected__ping"
   ]
  },
  {
   "cell_type": "code",
   "execution_count": 146,
   "metadata": {},
   "outputs": [
    {
     "name": "stdout",
     "output_type": "stream",
     "text": [
      "Result of paired  t-test between original and ping middle\n",
      "Overall t-statistic: 243.5538292489632\n",
      "Overall p-value: 0.0\n"
     ]
    }
   ],
   "source": [
    "# Run an p-pair t-test on the flattened data\n",
    "t_stat, p_value = stats.ttest_rel(mag_original, mag_ping_flat)\n",
    "print(\"Result of paired  t-test between original and ping middle\")\n",
    "print(\"Overall t-statistic:\", t_stat)\n",
    "print(\"Overall p-value:\", p_value)"
   ]
  },
  {
   "cell_type": "code",
   "execution_count": 147,
   "metadata": {},
   "outputs": [
    {
     "name": "stdout",
     "output_type": "stream",
     "text": [
      "Result of 2-sample  t-test between original and ping middle\n",
      "Overall t-statistic: 225.05238068446255\n",
      "Overall p-value: 0.0\n"
     ]
    }
   ],
   "source": [
    "# Run an 2-sample t-test on the flattened data\n",
    "t_stat, p_value = stats.ttest_ind(mag_original, mag_ping_flat)\n",
    "print(\"Result of 2-sample  t-test between original and ping middle\")\n",
    "print(\"Overall t-statistic:\", t_stat)\n",
    "print(\"Overall p-value:\", p_value)\n",
    "del mag_ping_flat"
   ]
  },
  {
   "cell_type": "markdown",
   "metadata": {},
   "source": [
    "### ping last"
   ]
  },
  {
   "cell_type": "code",
   "execution_count": 148,
   "metadata": {},
   "outputs": [
    {
     "name": "stdout",
     "output_type": "stream",
     "text": [
      "(212337083,)\n"
     ]
    }
   ],
   "source": [
    "ping = getData_half(\"/media/rasi/Other/data/API-Security/hypothesis1/unauthenticated_firemware/ping_last\")\n",
    "print(ping.shape)"
   ]
  },
  {
   "cell_type": "code",
   "execution_count": 149,
   "metadata": {},
   "outputs": [
    {
     "name": "stderr",
     "output_type": "stream",
     "text": [
      "/tmp/ipykernel_37161/1157356072.py:1: UserWarning: Input data is complex, switching to return_onesided=False\n",
      "  f_ping, t_ping, Zxx_ping = signal.stft(ping, fs=20e6, nperseg=fft_size, noverlap=fft_overlap)\n"
     ]
    },
    {
     "name": "stdout",
     "output_type": "stream",
     "text": [
      "Zxx_remove_rgn shape: (110421, 2048)\n",
      "Selected STFT data shape: (25000, 2048)\n"
     ]
    }
   ],
   "source": [
    "f_ping, t_ping, Zxx_ping = signal.stft(ping, fs=20e6, nperseg=fft_size, noverlap=fft_overlap)\n",
    "Zxx_ping = Zxx_ping.transpose()\n",
    "\n",
    "Zxx_selected__ping = Zxx_ping[:num_samp_per_class]\n",
    "\n",
    "\n",
    "print(\"Zxx_remove_rgn shape:\", Zxx_ping.shape)\n",
    "print(\"Selected STFT data shape:\", Zxx_selected__ping.shape)\n",
    "del ping, Zxx_ping"
   ]
  },
  {
   "cell_type": "code",
   "execution_count": 150,
   "metadata": {},
   "outputs": [],
   "source": [
    "mag_ping = np.abs(Zxx_selected__ping)\n",
    "mag_ping_flat = mag_ping.flatten()\n",
    "del Zxx_selected__ping"
   ]
  },
  {
   "cell_type": "code",
   "execution_count": 151,
   "metadata": {},
   "outputs": [
    {
     "name": "stdout",
     "output_type": "stream",
     "text": [
      "Result of paired  t-test between original and ping middle\n",
      "Overall t-statistic: 133.18204679897508\n",
      "Overall p-value: 0.0\n"
     ]
    }
   ],
   "source": [
    "# Run an p-pair t-test on the flattened data\n",
    "t_stat, p_value = stats.ttest_rel(mag_original, mag_ping_flat)\n",
    "print(\"Result of paired  t-test between original and ping middle\")\n",
    "print(\"Overall t-statistic:\", t_stat)\n",
    "print(\"Overall p-value:\", p_value)"
   ]
  },
  {
   "cell_type": "code",
   "execution_count": 152,
   "metadata": {},
   "outputs": [
    {
     "name": "stdout",
     "output_type": "stream",
     "text": [
      "Result of 2-sample  t-test between original and ping middle\n",
      "Overall t-statistic: 125.11695860828205\n",
      "Overall p-value: 0.0\n"
     ]
    }
   ],
   "source": [
    "# Run an 2-sample t-test on the flattened data\n",
    "t_stat, p_value = stats.ttest_ind(mag_original, mag_ping_flat)\n",
    "print(\"Result of 2-sample  t-test between original and ping middle\")\n",
    "print(\"Overall t-statistic:\", t_stat)\n",
    "print(\"Overall p-value:\", p_value)\n",
    "del mag_ping_flat"
   ]
  },
  {
   "cell_type": "markdown",
   "metadata": {},
   "source": [
    "# info gather"
   ]
  },
  {
   "cell_type": "code",
   "execution_count": 153,
   "metadata": {},
   "outputs": [
    {
     "name": "stdout",
     "output_type": "stream",
     "text": [
      "(210503583,)\n"
     ]
    }
   ],
   "source": [
    "gather = getData_half(\"/media/rasi/Other/data/API-Security/hypothesis1/unauthenticated_firemware/infoGather\")\n",
    "print(gather.shape)"
   ]
  },
  {
   "cell_type": "code",
   "execution_count": 154,
   "metadata": {},
   "outputs": [
    {
     "name": "stderr",
     "output_type": "stream",
     "text": [
      "/tmp/ipykernel_37161/3332082965.py:1: UserWarning: Input data is complex, switching to return_onesided=False\n",
      "  f_gather, t_gather, Zxx_gather = signal.stft(gather, fs=20e6, nperseg=fft_size, noverlap=fft_overlap)\n"
     ]
    },
    {
     "name": "stdout",
     "output_type": "stream",
     "text": [
      "Zxx_remove_rgn shape: (109468, 2048)\n",
      "Selected STFT data shape: (25000, 2048)\n"
     ]
    }
   ],
   "source": [
    "f_gather, t_gather, Zxx_gather = signal.stft(gather, fs=20e6, nperseg=fft_size, noverlap=fft_overlap)\n",
    "Zxx_gather = Zxx_gather.transpose()\n",
    "\n",
    "Zxx_selected__gather = Zxx_gather[:num_samp_per_class]\n",
    "\n",
    "\n",
    "print(\"Zxx_remove_rgn shape:\", Zxx_gather.shape)\n",
    "print(\"Selected STFT data shape:\", Zxx_selected__gather.shape)\n",
    "del gather, Zxx_gather"
   ]
  },
  {
   "cell_type": "code",
   "execution_count": 155,
   "metadata": {},
   "outputs": [],
   "source": [
    "mag_gather = np.abs(Zxx_selected__gather)\n",
    "mag_gather_flat = mag_gather.flatten()\n",
    "del Zxx_selected__gather"
   ]
  },
  {
   "cell_type": "code",
   "execution_count": 156,
   "metadata": {},
   "outputs": [
    {
     "name": "stdout",
     "output_type": "stream",
     "text": [
      "Result of paired t-test between original and infoGather API\n",
      "Overall t-statistic: 1250.7268755573393\n",
      "Overall p-value: 0.0\n"
     ]
    }
   ],
   "source": [
    "# Run an pair t-test on the flattened data\n",
    "t_stat, p_value = stats.ttest_rel(mag_original, mag_gather_flat)\n",
    "print(\"Result of paired t-test between original and infoGather API\")\n",
    "print(\"Overall t-statistic:\", t_stat)\n",
    "print(\"Overall p-value:\", p_value)"
   ]
  },
  {
   "cell_type": "code",
   "execution_count": 157,
   "metadata": {},
   "outputs": [
    {
     "name": "stdout",
     "output_type": "stream",
     "text": [
      "Result of 2-sample t-test between original and infoGather API\n",
      "Overall t-statistic: 1178.203658647716\n",
      "Overall p-value: 0.0\n"
     ]
    }
   ],
   "source": [
    "# Run an 2-sample t-test on the flattened data\n",
    "t_stat, p_value = stats.ttest_ind(mag_original, mag_gather_flat)\n",
    "print(\"Result of 2-sample t-test between original and infoGather API\")\n",
    "print(\"Overall t-statistic:\", t_stat)\n",
    "print(\"Overall p-value:\", p_value)\n",
    "del mag_gather_flat"
   ]
  },
  {
   "cell_type": "markdown",
   "metadata": {},
   "source": [
    "# update"
   ]
  },
  {
   "cell_type": "code",
   "execution_count": 158,
   "metadata": {},
   "outputs": [
    {
     "name": "stdout",
     "output_type": "stream",
     "text": [
      "(212010598,)\n"
     ]
    }
   ],
   "source": [
    "update = getData_half(\"/media/rasi/Other/data/API-Security/hypothesis1/unauthenticated_firemware/update_weatherRequest_different_payload\")\n",
    "print(update.shape)"
   ]
  },
  {
   "cell_type": "code",
   "execution_count": 159,
   "metadata": {},
   "outputs": [
    {
     "name": "stderr",
     "output_type": "stream",
     "text": [
      "/tmp/ipykernel_37161/182203566.py:1: UserWarning: Input data is complex, switching to return_onesided=False\n",
      "  f_update, t_update, Zxx_update = signal.stft(update, fs=20e6, nperseg=fft_size, noverlap=fft_overlap)\n"
     ]
    },
    {
     "name": "stdout",
     "output_type": "stream",
     "text": [
      "Zxx_remove_rgn shape: (110251, 2048)\n",
      "Selected STFT data shape: (25000, 2048)\n"
     ]
    }
   ],
   "source": [
    "f_update, t_update, Zxx_update = signal.stft(update, fs=20e6, nperseg=fft_size, noverlap=fft_overlap)\n",
    "Zxx_update = Zxx_update.transpose()\n",
    "\n",
    "Zxx_selected__update = Zxx_update[:num_samp_per_class]\n",
    "\n",
    "\n",
    "print(\"Zxx_remove_rgn shape:\", Zxx_update.shape)\n",
    "print(\"Selected STFT data shape:\", Zxx_selected__update.shape)\n",
    "del update, Zxx_update"
   ]
  },
  {
   "cell_type": "code",
   "execution_count": 160,
   "metadata": {},
   "outputs": [],
   "source": [
    "mag_update = np.abs(Zxx_selected__update)\n",
    "mag_update_flat = mag_update.flatten()\n",
    "del Zxx_selected__update"
   ]
  },
  {
   "cell_type": "code",
   "execution_count": 161,
   "metadata": {},
   "outputs": [
    {
     "name": "stdout",
     "output_type": "stream",
     "text": [
      "Result of paired t-test between original and update weather API\n",
      "Overall t-statistic: 1769.9021044838262\n",
      "Overall p-value: 0.0\n"
     ]
    }
   ],
   "source": [
    "# Run an paired t-test on the flattened data\n",
    "t_stat, p_value = stats.ttest_rel(mag_original, mag_update_flat)\n",
    "print(\"Result of paired t-test between original and update weather API\")\n",
    "print(\"Overall t-statistic:\", t_stat)\n",
    "print(\"Overall p-value:\", p_value)"
   ]
  },
  {
   "cell_type": "code",
   "execution_count": 162,
   "metadata": {},
   "outputs": [
    {
     "name": "stdout",
     "output_type": "stream",
     "text": [
      "Result of 2-sample t-test between original and update weather API\n",
      "Overall t-statistic: 1641.7117511145082\n",
      "Overall p-value: 0.0\n"
     ]
    }
   ],
   "source": [
    "# Run an 2-sample t-test on the flattened data\n",
    "t_stat, p_value = stats.ttest_ind(mag_original, mag_update_flat)\n",
    "print(\"Result of 2-sample t-test between original and update weather API\")\n",
    "print(\"Overall t-statistic:\", t_stat)\n",
    "print(\"Overall p-value:\", p_value)"
   ]
  }
 ],
 "metadata": {
  "kernelspec": {
   "display_name": "venv",
   "language": "python",
   "name": "python3"
  },
  "language_info": {
   "codemirror_mode": {
    "name": "ipython",
    "version": 3
   },
   "file_extension": ".py",
   "mimetype": "text/x-python",
   "name": "python",
   "nbconvert_exporter": "python",
   "pygments_lexer": "ipython3",
   "version": "3.12.3"
  }
 },
 "nbformat": 4,
 "nbformat_minor": 2
}
