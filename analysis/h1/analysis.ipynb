{
 "cells": [
  {
   "cell_type": "code",
   "execution_count": 1,
   "metadata": {},
   "outputs": [],
   "source": [
    "import numpy as np\n",
    "import matplotlib.pyplot as plt\n",
    "from scipy import signal\n",
    "from scipy import signal, stats\n",
    "import os"
   ]
  },
  {
   "cell_type": "code",
   "execution_count": 2,
   "metadata": {},
   "outputs": [],
   "source": [
    "\n",
    "def getData_half(cfileName):\n",
    "    \"\"\"\n",
    "    Reads only the first half of the complex samples from a .cfile.\n",
    "    The file is assumed to contain interleaved float32 I and Q samples.\n",
    "    \"\"\"\n",
    "    # Get file size in bytes\n",
    "    file_size = os.path.getsize(cfileName)\n",
    "    # Determine total number of float32 samples in the file\n",
    "    num_floats = file_size // 4\n",
    "    # Each complex sample requires 2 floats.\n",
    "    # The full complex array would have num_floats//2 elements.\n",
    "    # To get only half of that, we need to read:\n",
    "    count = (num_floats // 4) * 2  # (num_floats//4 complex samples)\n",
    "    \n",
    "    # Read only 'count' float32 numbers from the file\n",
    "    data = np.fromfile(cfileName, dtype=\"float32\", count=count)\n",
    "    \n",
    "    # Form complex samples: every pair (I, Q)\n",
    "    data_complex = data[0::2] + 1j * data[1::2]\n",
    "    \n",
    "    return data_complex\n",
    "\n"
   ]
  },
  {
   "cell_type": "code",
   "execution_count": 3,
   "metadata": {},
   "outputs": [],
   "source": [
    "num_samp_per_class = 10000\n",
    "fs = 20e6        # sampling frequency\n",
    "fft_size = 2048  # FFT window size\n",
    "fft_overlap = 256  # overlap between segments"
   ]
  },
  {
   "cell_type": "code",
   "execution_count": 4,
   "metadata": {},
   "outputs": [
    {
     "name": "stdout",
     "output_type": "stream",
     "text": [
      "(212153772,)\n"
     ]
    }
   ],
   "source": [
    "original_half = getData_half(\"/media/rasi/Other/data/API-Security/hypothesis1/autheticated_firemware/original\")\n",
    "print(original_half.shape)"
   ]
  },
  {
   "cell_type": "code",
   "execution_count": 5,
   "metadata": {},
   "outputs": [
    {
     "name": "stderr",
     "output_type": "stream",
     "text": [
      "/tmp/ipykernel_44896/1278949766.py:1: UserWarning: Input data is complex, switching to return_onesided=False\n",
      "  f_original, t_original, Zxx_original = signal.stft(original_half, fs=20e6, nperseg=fft_size, noverlap=fft_overlap)\n"
     ]
    },
    {
     "name": "stdout",
     "output_type": "stream",
     "text": [
      "Zxx_original shape: (118391, 2048)\n",
      "Selected STFT data shape: (10000, 2048)\n"
     ]
    }
   ],
   "source": [
    "f_original, t_original, Zxx_original = signal.stft(original_half, fs=20e6, nperseg=fft_size, noverlap=fft_overlap)\n",
    "Zxx_original = Zxx_original.transpose()\n",
    "\n",
    "Zxx_selected__orginal = Zxx_original[:num_samp_per_class]\n",
    "\n",
    "\n",
    "print(\"Zxx_original shape:\", Zxx_original.shape)\n",
    "print(\"Selected STFT data shape:\", Zxx_selected__orginal.shape)\n",
    "del original_half, Zxx_original"
   ]
  },
  {
   "cell_type": "code",
   "execution_count": 6,
   "metadata": {},
   "outputs": [],
   "source": [
    "mag_original = np.abs(Zxx_selected__orginal)\n",
    "mag_original = mag_original.flatten()\n",
    "del Zxx_selected__orginal"
   ]
  },
  {
   "cell_type": "markdown",
   "metadata": {},
   "source": [
    "# Remove rgn API"
   ]
  },
  {
   "cell_type": "code",
   "execution_count": 7,
   "metadata": {},
   "outputs": [
    {
     "name": "stdout",
     "output_type": "stream",
     "text": [
      "(211748722,)\n"
     ]
    }
   ],
   "source": [
    "remove_rgn_half = getData_half(\"/media/rasi/Other/data/API-Security/hypothesis1/unauthenticated_firemware/remove_rgn\")\n",
    "print(remove_rgn_half.shape)"
   ]
  },
  {
   "cell_type": "code",
   "execution_count": 8,
   "metadata": {},
   "outputs": [
    {
     "name": "stderr",
     "output_type": "stream",
     "text": [
      "/tmp/ipykernel_44896/2506175574.py:1: UserWarning: Input data is complex, switching to return_onesided=False\n",
      "  f_remove_rgn, t_remove_rgn, Zxx_remove_rgn = signal.stft(remove_rgn_half, fs=20e6, nperseg=fft_size, noverlap=fft_overlap)\n"
     ]
    },
    {
     "name": "stdout",
     "output_type": "stream",
     "text": [
      "Zxx_remove_rgn shape: (118165, 2048)\n",
      "Selected STFT data shape: (10000, 2048)\n"
     ]
    }
   ],
   "source": [
    "f_remove_rgn, t_remove_rgn, Zxx_remove_rgn = signal.stft(remove_rgn_half, fs=20e6, nperseg=fft_size, noverlap=fft_overlap)\n",
    "Zxx_remove_rgn = Zxx_remove_rgn.transpose()\n",
    "\n",
    "Zxx_selected__remove = Zxx_remove_rgn[:num_samp_per_class]\n",
    "\n",
    "\n",
    "print(\"Zxx_remove_rgn shape:\", Zxx_remove_rgn.shape)\n",
    "print(\"Selected STFT data shape:\", Zxx_selected__remove.shape)\n",
    "del remove_rgn_half, Zxx_remove_rgn"
   ]
  },
  {
   "cell_type": "code",
   "execution_count": 9,
   "metadata": {},
   "outputs": [],
   "source": [
    "mag_remove_rgn = np.abs(Zxx_selected__remove)\n",
    "mag_remove_rgn = mag_remove_rgn.flatten()\n",
    "del Zxx_selected__remove"
   ]
  },
  {
   "cell_type": "code",
   "execution_count": 10,
   "metadata": {},
   "outputs": [
    {
     "name": "stdout",
     "output_type": "stream",
     "text": [
      "paried t-test\n",
      "Overall t-statistic: 56.15386631419774\n",
      "Overall p-value: 0.0\n"
     ]
    }
   ],
   "source": [
    "# Run an p-pair t-test on the flattened data\n",
    "t_stat, p_value = stats.ttest_rel(mag_original, mag_remove_rgn)\n",
    "\n",
    "print(\"paried t-test\")\n",
    "print(\"Overall t-statistic:\", t_stat)\n",
    "print(\"Overall p-value:\", p_value)\n"
   ]
  },
  {
   "cell_type": "code",
   "execution_count": 11,
   "metadata": {},
   "outputs": [
    {
     "name": "stdout",
     "output_type": "stream",
     "text": [
      "Two-sample t-test\n",
      "Overall t-statistic: 52.46581258248614\n",
      "Overall p-value: 0.0\n"
     ]
    }
   ],
   "source": [
    "# Run an Two-sample t-test on the flattened data\n",
    "t_stat, p_value = stats.ttest_ind(mag_original, mag_remove_rgn)\n",
    "\n",
    "print(\"Two-sample t-test\")\n",
    "print(\"Overall t-statistic:\", t_stat)\n",
    "print(\"Overall p-value:\", p_value)\n",
    "del mag_remove_rgn"
   ]
  },
  {
   "cell_type": "markdown",
   "metadata": {},
   "source": [
    "# Add ping API"
   ]
  },
  {
   "cell_type": "markdown",
   "metadata": {},
   "source": [
    "### ping first"
   ]
  },
  {
   "cell_type": "code",
   "execution_count": 12,
   "metadata": {},
   "outputs": [
    {
     "name": "stdout",
     "output_type": "stream",
     "text": [
      "(211288125,)\n"
     ]
    }
   ],
   "source": [
    "ping = getData_half(\"/media/rasi/Other/data/API-Security/hypothesis1/unauthenticated_firemware/ping_first\")\n",
    "print(ping.shape)"
   ]
  },
  {
   "cell_type": "code",
   "execution_count": 13,
   "metadata": {},
   "outputs": [
    {
     "name": "stderr",
     "output_type": "stream",
     "text": [
      "/tmp/ipykernel_44896/1157356072.py:1: UserWarning: Input data is complex, switching to return_onesided=False\n",
      "  f_ping, t_ping, Zxx_ping = signal.stft(ping, fs=20e6, nperseg=fft_size, noverlap=fft_overlap)\n"
     ]
    },
    {
     "name": "stdout",
     "output_type": "stream",
     "text": [
      "Zxx_remove_rgn shape: (117908, 2048)\n",
      "Selected STFT data shape: (10000, 2048)\n"
     ]
    }
   ],
   "source": [
    "f_ping, t_ping, Zxx_ping = signal.stft(ping, fs=20e6, nperseg=fft_size, noverlap=fft_overlap)\n",
    "Zxx_ping = Zxx_ping.transpose()\n",
    "\n",
    "Zxx_selected__ping = Zxx_ping[:num_samp_per_class]\n",
    "\n",
    "\n",
    "print(\"Zxx_remove_rgn shape:\", Zxx_ping.shape)\n",
    "print(\"Selected STFT data shape:\", Zxx_selected__ping.shape)\n",
    "del ping, Zxx_ping"
   ]
  },
  {
   "cell_type": "code",
   "execution_count": 14,
   "metadata": {},
   "outputs": [],
   "source": [
    "mag_ping = np.abs(Zxx_selected__ping)\n",
    "mag_ping_flat = mag_ping.flatten()\n",
    "del Zxx_selected__ping"
   ]
  },
  {
   "cell_type": "code",
   "execution_count": 15,
   "metadata": {},
   "outputs": [
    {
     "name": "stdout",
     "output_type": "stream",
     "text": [
      "Result of paired  t-test between original and ping first\n",
      "Overall t-statistic: 105.2710960878297\n",
      "Overall p-value: 0.0\n"
     ]
    }
   ],
   "source": [
    "# Run an p-pair t-test on the flattened data\n",
    "t_stat, p_value = stats.ttest_rel(mag_original, mag_ping_flat)\n",
    "print(\"Result of paired  t-test between original and ping first\")\n",
    "print(\"Overall t-statistic:\", t_stat)\n",
    "print(\"Overall p-value:\", p_value)"
   ]
  },
  {
   "cell_type": "code",
   "execution_count": 16,
   "metadata": {},
   "outputs": [
    {
     "name": "stdout",
     "output_type": "stream",
     "text": [
      "Result of 2-sample  t-test between original and ping first\n",
      "Overall t-statistic: 99.73254904232883\n",
      "Overall p-value: 0.0\n"
     ]
    }
   ],
   "source": [
    "# Run an 2-sample t-test on the flattened data\n",
    "t_stat, p_value = stats.ttest_ind(mag_original, mag_ping_flat)\n",
    "print(\"Result of 2-sample  t-test between original and ping first\")\n",
    "print(\"Overall t-statistic:\", t_stat)\n",
    "print(\"Overall p-value:\", p_value)\n",
    "del mag_ping_flat"
   ]
  },
  {
   "cell_type": "markdown",
   "metadata": {},
   "source": [
    "### ping middle"
   ]
  },
  {
   "cell_type": "code",
   "execution_count": 17,
   "metadata": {},
   "outputs": [
    {
     "name": "stdout",
     "output_type": "stream",
     "text": [
      "(214828233,)\n"
     ]
    }
   ],
   "source": [
    "ping = getData_half(\"/media/rasi/Other/data/API-Security/hypothesis1/unauthenticated_firemware/ping_middle\")\n",
    "print(ping.shape)"
   ]
  },
  {
   "cell_type": "code",
   "execution_count": 18,
   "metadata": {},
   "outputs": [
    {
     "name": "stderr",
     "output_type": "stream",
     "text": [
      "/tmp/ipykernel_44896/1157356072.py:1: UserWarning: Input data is complex, switching to return_onesided=False\n",
      "  f_ping, t_ping, Zxx_ping = signal.stft(ping, fs=20e6, nperseg=fft_size, noverlap=fft_overlap)\n"
     ]
    },
    {
     "name": "stdout",
     "output_type": "stream",
     "text": [
      "Zxx_remove_rgn shape: (119883, 2048)\n",
      "Selected STFT data shape: (10000, 2048)\n"
     ]
    }
   ],
   "source": [
    "f_ping, t_ping, Zxx_ping = signal.stft(ping, fs=20e6, nperseg=fft_size, noverlap=fft_overlap)\n",
    "Zxx_ping = Zxx_ping.transpose()\n",
    "\n",
    "Zxx_selected__ping = Zxx_ping[:num_samp_per_class]\n",
    "\n",
    "\n",
    "print(\"Zxx_remove_rgn shape:\", Zxx_ping.shape)\n",
    "print(\"Selected STFT data shape:\", Zxx_selected__ping.shape)\n",
    "del ping, Zxx_ping"
   ]
  },
  {
   "cell_type": "code",
   "execution_count": 19,
   "metadata": {},
   "outputs": [],
   "source": [
    "mag_ping = np.abs(Zxx_selected__ping)\n",
    "mag_ping_flat = mag_ping.flatten()\n",
    "del Zxx_selected__ping"
   ]
  },
  {
   "cell_type": "code",
   "execution_count": 20,
   "metadata": {},
   "outputs": [
    {
     "name": "stdout",
     "output_type": "stream",
     "text": [
      "Result of paired  t-test between original and ping middle\n",
      "Overall t-statistic: 171.9532375331126\n",
      "Overall p-value: 0.0\n"
     ]
    }
   ],
   "source": [
    "# Run an p-pair t-test on the flattened data\n",
    "t_stat, p_value = stats.ttest_rel(mag_original, mag_ping_flat)\n",
    "print(\"Result of paired  t-test between original and ping middle\")\n",
    "print(\"Overall t-statistic:\", t_stat)\n",
    "print(\"Overall p-value:\", p_value)"
   ]
  },
  {
   "cell_type": "code",
   "execution_count": 21,
   "metadata": {},
   "outputs": [
    {
     "name": "stdout",
     "output_type": "stream",
     "text": [
      "Result of 2-sample  t-test between original and ping middle\n",
      "Overall t-statistic: 158.79665323387914\n",
      "Overall p-value: 0.0\n"
     ]
    }
   ],
   "source": [
    "# Run an 2-sample t-test on the flattened data\n",
    "t_stat, p_value = stats.ttest_ind(mag_original, mag_ping_flat)\n",
    "print(\"Result of 2-sample  t-test between original and ping middle\")\n",
    "print(\"Overall t-statistic:\", t_stat)\n",
    "print(\"Overall p-value:\", p_value)\n",
    "del mag_ping_flat"
   ]
  },
  {
   "cell_type": "markdown",
   "metadata": {},
   "source": [
    "### ping last"
   ]
  },
  {
   "cell_type": "code",
   "execution_count": 22,
   "metadata": {},
   "outputs": [
    {
     "name": "stdout",
     "output_type": "stream",
     "text": [
      "(212337083,)\n"
     ]
    }
   ],
   "source": [
    "ping = getData_half(\"/media/rasi/Other/data/API-Security/hypothesis1/unauthenticated_firemware/ping_last\")\n",
    "print(ping.shape)"
   ]
  },
  {
   "cell_type": "code",
   "execution_count": 23,
   "metadata": {},
   "outputs": [
    {
     "name": "stderr",
     "output_type": "stream",
     "text": [
      "/tmp/ipykernel_44896/1157356072.py:1: UserWarning: Input data is complex, switching to return_onesided=False\n",
      "  f_ping, t_ping, Zxx_ping = signal.stft(ping, fs=20e6, nperseg=fft_size, noverlap=fft_overlap)\n"
     ]
    },
    {
     "name": "stdout",
     "output_type": "stream",
     "text": [
      "Zxx_remove_rgn shape: (118493, 2048)\n",
      "Selected STFT data shape: (10000, 2048)\n"
     ]
    }
   ],
   "source": [
    "f_ping, t_ping, Zxx_ping = signal.stft(ping, fs=20e6, nperseg=fft_size, noverlap=fft_overlap)\n",
    "Zxx_ping = Zxx_ping.transpose()\n",
    "\n",
    "Zxx_selected__ping = Zxx_ping[:num_samp_per_class]\n",
    "\n",
    "\n",
    "print(\"Zxx_remove_rgn shape:\", Zxx_ping.shape)\n",
    "print(\"Selected STFT data shape:\", Zxx_selected__ping.shape)\n",
    "del ping, Zxx_ping"
   ]
  },
  {
   "cell_type": "code",
   "execution_count": 24,
   "metadata": {},
   "outputs": [],
   "source": [
    "mag_ping = np.abs(Zxx_selected__ping)\n",
    "mag_ping_flat = mag_ping.flatten()\n",
    "del Zxx_selected__ping"
   ]
  },
  {
   "cell_type": "code",
   "execution_count": 25,
   "metadata": {},
   "outputs": [
    {
     "name": "stdout",
     "output_type": "stream",
     "text": [
      "Result of paired  t-test between original and ping middle\n",
      "Overall t-statistic: 91.60413308149352\n",
      "Overall p-value: 0.0\n"
     ]
    }
   ],
   "source": [
    "# Run an p-pair t-test on the flattened data\n",
    "t_stat, p_value = stats.ttest_rel(mag_original, mag_ping_flat)\n",
    "print(\"Result of paired  t-test between original and ping middle\")\n",
    "print(\"Overall t-statistic:\", t_stat)\n",
    "print(\"Overall p-value:\", p_value)"
   ]
  },
  {
   "cell_type": "code",
   "execution_count": 26,
   "metadata": {},
   "outputs": [
    {
     "name": "stdout",
     "output_type": "stream",
     "text": [
      "Result of 2-sample  t-test between original and ping middle\n",
      "Overall t-statistic: 85.36284785465122\n",
      "Overall p-value: 0.0\n"
     ]
    }
   ],
   "source": [
    "# Run an 2-sample t-test on the flattened data\n",
    "t_stat, p_value = stats.ttest_ind(mag_original, mag_ping_flat)\n",
    "print(\"Result of 2-sample  t-test between original and ping middle\")\n",
    "print(\"Overall t-statistic:\", t_stat)\n",
    "print(\"Overall p-value:\", p_value)\n",
    "del mag_ping_flat"
   ]
  },
  {
   "cell_type": "markdown",
   "metadata": {},
   "source": [
    "# info gather"
   ]
  },
  {
   "cell_type": "code",
   "execution_count": 27,
   "metadata": {},
   "outputs": [
    {
     "name": "stdout",
     "output_type": "stream",
     "text": [
      "(210503583,)\n"
     ]
    }
   ],
   "source": [
    "gather = getData_half(\"/media/rasi/Other/data/API-Security/hypothesis1/unauthenticated_firemware/infoGather\")\n",
    "print(gather.shape)"
   ]
  },
  {
   "cell_type": "code",
   "execution_count": 28,
   "metadata": {},
   "outputs": [
    {
     "name": "stderr",
     "output_type": "stream",
     "text": [
      "/tmp/ipykernel_44896/3332082965.py:1: UserWarning: Input data is complex, switching to return_onesided=False\n",
      "  f_gather, t_gather, Zxx_gather = signal.stft(gather, fs=20e6, nperseg=fft_size, noverlap=fft_overlap)\n"
     ]
    },
    {
     "name": "stdout",
     "output_type": "stream",
     "text": [
      "Zxx_remove_rgn shape: (117470, 2048)\n",
      "Selected STFT data shape: (10000, 2048)\n"
     ]
    }
   ],
   "source": [
    "f_gather, t_gather, Zxx_gather = signal.stft(gather, fs=20e6, nperseg=fft_size, noverlap=fft_overlap)\n",
    "Zxx_gather = Zxx_gather.transpose()\n",
    "\n",
    "Zxx_selected__gather = Zxx_gather[:num_samp_per_class]\n",
    "\n",
    "\n",
    "print(\"Zxx_remove_rgn shape:\", Zxx_gather.shape)\n",
    "print(\"Selected STFT data shape:\", Zxx_selected__gather.shape)\n",
    "del gather, Zxx_gather"
   ]
  },
  {
   "cell_type": "code",
   "execution_count": 29,
   "metadata": {},
   "outputs": [],
   "source": [
    "mag_gather = np.abs(Zxx_selected__gather)\n",
    "mag_gather_flat = mag_gather.flatten()\n",
    "del Zxx_selected__gather"
   ]
  },
  {
   "cell_type": "code",
   "execution_count": 30,
   "metadata": {},
   "outputs": [
    {
     "name": "stdout",
     "output_type": "stream",
     "text": [
      "Result of paired t-test between original and infoGather API\n",
      "Overall t-statistic: 732.6172792988601\n",
      "Overall p-value: 0.0\n"
     ]
    }
   ],
   "source": [
    "# Run an pair t-test on the flattened data\n",
    "t_stat, p_value = stats.ttest_rel(mag_original, mag_gather_flat)\n",
    "print(\"Result of paired t-test between original and infoGather API\")\n",
    "print(\"Overall t-statistic:\", t_stat)\n",
    "print(\"Overall p-value:\", p_value)"
   ]
  },
  {
   "cell_type": "code",
   "execution_count": 31,
   "metadata": {},
   "outputs": [
    {
     "name": "stdout",
     "output_type": "stream",
     "text": [
      "Result of 2-sample t-test between original and infoGather API\n",
      "Overall t-statistic: 692.2371444222464\n",
      "Overall p-value: 0.0\n"
     ]
    }
   ],
   "source": [
    "# Run an 2-sample t-test on the flattened data\n",
    "t_stat, p_value = stats.ttest_ind(mag_original, mag_gather_flat)\n",
    "print(\"Result of 2-sample t-test between original and infoGather API\")\n",
    "print(\"Overall t-statistic:\", t_stat)\n",
    "print(\"Overall p-value:\", p_value)\n",
    "del mag_gather_flat"
   ]
  },
  {
   "cell_type": "markdown",
   "metadata": {},
   "source": [
    "# update"
   ]
  },
  {
   "cell_type": "code",
   "execution_count": 32,
   "metadata": {},
   "outputs": [
    {
     "name": "stdout",
     "output_type": "stream",
     "text": [
      "(212010598,)\n"
     ]
    }
   ],
   "source": [
    "update = getData_half(\"/media/rasi/Other/data/API-Security/hypothesis1/unauthenticated_firemware/update_weatherRequest_different_payload\")\n",
    "print(update.shape)"
   ]
  },
  {
   "cell_type": "code",
   "execution_count": 33,
   "metadata": {},
   "outputs": [
    {
     "name": "stderr",
     "output_type": "stream",
     "text": [
      "/tmp/ipykernel_44896/182203566.py:1: UserWarning: Input data is complex, switching to return_onesided=False\n",
      "  f_update, t_update, Zxx_update = signal.stft(update, fs=20e6, nperseg=fft_size, noverlap=fft_overlap)\n"
     ]
    },
    {
     "name": "stdout",
     "output_type": "stream",
     "text": [
      "Zxx_remove_rgn shape: (118311, 2048)\n",
      "Selected STFT data shape: (10000, 2048)\n"
     ]
    }
   ],
   "source": [
    "f_update, t_update, Zxx_update = signal.stft(update, fs=20e6, nperseg=fft_size, noverlap=fft_overlap)\n",
    "Zxx_update = Zxx_update.transpose()\n",
    "\n",
    "Zxx_selected__update = Zxx_update[:num_samp_per_class]\n",
    "\n",
    "\n",
    "print(\"Zxx_remove_rgn shape:\", Zxx_update.shape)\n",
    "print(\"Selected STFT data shape:\", Zxx_selected__update.shape)\n",
    "del update, Zxx_update"
   ]
  },
  {
   "cell_type": "code",
   "execution_count": 34,
   "metadata": {},
   "outputs": [],
   "source": [
    "mag_update = np.abs(Zxx_selected__update)\n",
    "mag_update_flat = mag_update.flatten()\n",
    "del Zxx_selected__update"
   ]
  },
  {
   "cell_type": "code",
   "execution_count": 35,
   "metadata": {},
   "outputs": [
    {
     "name": "stdout",
     "output_type": "stream",
     "text": [
      "Result of paired t-test between original and update weather API\n",
      "Overall t-statistic: 1120.8525270983953\n",
      "Overall p-value: 0.0\n"
     ]
    }
   ],
   "source": [
    "# Run an paired t-test on the flattened data\n",
    "t_stat, p_value = stats.ttest_rel(mag_original, mag_update_flat)\n",
    "print(\"Result of paired t-test between original and update weather API\")\n",
    "print(\"Overall t-statistic:\", t_stat)\n",
    "print(\"Overall p-value:\", p_value)"
   ]
  },
  {
   "cell_type": "code",
   "execution_count": 36,
   "metadata": {},
   "outputs": [
    {
     "name": "stdout",
     "output_type": "stream",
     "text": [
      "Result of 2-sample t-test between original and update weather API\n",
      "Overall t-statistic: 1042.4908850203528\n",
      "Overall p-value: 0.0\n"
     ]
    }
   ],
   "source": [
    "# Run an 2-sample t-test on the flattened data\n",
    "t_stat, p_value = stats.ttest_ind(mag_original, mag_update_flat)\n",
    "print(\"Result of 2-sample t-test between original and update weather API\")\n",
    "print(\"Overall t-statistic:\", t_stat)\n",
    "print(\"Overall p-value:\", p_value)"
   ]
  }
 ],
 "metadata": {
  "kernelspec": {
   "display_name": "venv",
   "language": "python",
   "name": "python3"
  },
  "language_info": {
   "codemirror_mode": {
    "name": "ipython",
    "version": 3
   },
   "file_extension": ".py",
   "mimetype": "text/x-python",
   "name": "python",
   "nbconvert_exporter": "python",
   "pygments_lexer": "ipython3",
   "version": "3.12.3"
  }
 },
 "nbformat": 4,
 "nbformat_minor": 2
}
